{
 "cells": [
  {
   "cell_type": "code",
   "execution_count": 1,
   "metadata": {},
   "outputs": [],
   "source": [
    "import cv2"
   ]
  },
  {
   "cell_type": "code",
   "execution_count": 9,
   "metadata": {},
   "outputs": [],
   "source": [
    "def contour(path):\n",
    "    img_color = cv2.imread(path)\n",
    "    cv2.imshow('img', img_color)\n",
    "    # img_color = cv2.normalize(img_color, None, 0, 255, cv2.NORM_MINMAX)\n",
    "    # cv2.imshow('img', img_color)\n",
    "    # img_color = cv2.GaussianBlur(img_color, (5, 5), 0)\n",
    "    img_gray = cv2.cvtColor(img_color, cv2.COLOR_BGR2GRAY)\n",
    "    # img_gray = cv2.GaussianBlur(img_gray, (5, 5), 0)\n",
    "    cv2.imshow('img', img_gray)\n",
    "    cv2.waitKey(0)\n",
    "    ret, img_binary = cv2.threshold(img_gray, 50, 255, cv2.THRESH_BINARY_INV)\n",
    "    cv2.imshow('binary', img_binary)\n",
    "    cv2.waitKey(0)\n",
    "    contours, hierarchy = cv2.findContours(\n",
    "        img_binary, cv2.RETR_EXTERNAL, cv2.CHAIN_APPROX_SIMPLE)  # 컨투어 검출\n",
    "    if len(contours) == 0:\n",
    "        print(f'{path}: {len(contours)}')\n",
    "        # summ += 1\n",
    "    x, y, w, h = cv2.boundingRect(contours[0])\n",
    "    cv2.rectangle(img_color, (x-10, y-10), (x+w+10, y+h+10), (0, 0, 0), 3)\n",
    "    cv2.drawContours(img_color, contours, -1, (0, 255, 0), 3)  # 인덱스0, 파란색\n",
    "    cv2.imshow(\"result\", img_color)\n",
    "    cv2.waitKey(0)"
   ]
  },
  {
   "cell_type": "code",
   "execution_count": 10,
   "metadata": {},
   "outputs": [
    {
     "ename": "",
     "evalue": "",
     "output_type": "error",
     "traceback": [
      "\u001b[1;31m현재 셀 또는 이전 셀에서 코드를 실행하는 동안 Kernel이 충돌했습니다. 셀의 코드를 검토하여 오류의 가능한 원인을 식별하세요. 자세한 내용을 보려면 <a href='https://aka.ms/vscodeJupyterKernelCrash'> 여기 </a> 를 클릭하세요. 자세한 내용은 Jupyter <a href='command:jupyter.viewOutput'>로그</a>를 참조하세요."
     ]
    }
   ],
   "source": [
    "# for i in range(30000):\n",
    "#     contour(f'dataset/Item-Image/img{i}.jpg')\n",
    "# print(summ)\n",
    "img = cv2.imread('images - 2020-02-02T153227.665.jpg')\n",
    "cv2.imshow('img', img)\n",
    "cv2.waitKey(0)\n",
    "contour('images - 2020-02-02T153227.665.jpg')\n"
   ]
  },
  {
   "cell_type": "code",
   "execution_count": null,
   "metadata": {},
   "outputs": [],
   "source": []
  }
 ],
 "metadata": {
  "kernelspec": {
   "display_name": "Python 3.9.13 64-bit",
   "language": "python",
   "name": "python3"
  },
  "language_info": {
   "codemirror_mode": {
    "name": "ipython",
    "version": 3
   },
   "file_extension": ".py",
   "mimetype": "text/x-python",
   "name": "python",
   "nbconvert_exporter": "python",
   "pygments_lexer": "ipython3",
   "version": "3.9.13"
  },
  "orig_nbformat": 4,
  "vscode": {
   "interpreter": {
    "hash": "89b2aa35640a00fdcc6ea1e9193483026b25998ee45573a902a6563769629588"
   }
  }
 },
 "nbformat": 4,
 "nbformat_minor": 2
}
